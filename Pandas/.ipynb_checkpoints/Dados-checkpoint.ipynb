{
 "cells": [
  {
   "cell_type": "markdown",
   "metadata": {},
   "source": [
    "# # Importando Bibliotecas"
   ]
  },
  {
   "cell_type": "code",
   "execution_count": 1,
   "metadata": {},
   "outputs": [],
   "source": [
    "import pandas as pd"
   ]
  },
  {
   "cell_type": "markdown",
   "metadata": {},
   "source": [
    "# # Importando o Banco de Dados"
   ]
  },
  {
   "cell_type": "code",
   "execution_count": 17,
   "metadata": {},
   "outputs": [],
   "source": [
    "df = pd.read_csv('C:/Users/Micro/Desktop/Python Projetos/Treino de Logica/Python/Pandas/data/vendapetroleo.csv', header=0)"
   ]
  },
  {
   "cell_type": "markdown",
   "metadata": {},
   "source": [
    "# # Manipulando Dados com Pandas"
   ]
  },
  {
   "cell_type": "code",
   "execution_count": 18,
   "metadata": {},
   "outputs": [
    {
     "data": {
      "text/html": [
       "<div>\n",
       "<style scoped>\n",
       "    .dataframe tbody tr th:only-of-type {\n",
       "        vertical-align: middle;\n",
       "    }\n",
       "\n",
       "    .dataframe tbody tr th {\n",
       "        vertical-align: top;\n",
       "    }\n",
       "\n",
       "    .dataframe thead th {\n",
       "        text-align: right;\n",
       "    }\n",
       "</style>\n",
       "<table border=\"1\" class=\"dataframe\">\n",
       "  <thead>\n",
       "    <tr style=\"text-align: right;\">\n",
       "      <th></th>\n",
       "      <th>ANO;MÊS;GRANDE REGIÃO;UNIDADE DA FEDERAÇÃO;PRODUTO;VENDAS</th>\n",
       "    </tr>\n",
       "  </thead>\n",
       "  <tbody>\n",
       "    <tr>\n",
       "      <th>1990;JAN;REGIÃO NORDESTE;MARANHÃO;ETANOL HIDRATADO;7578</th>\n",
       "      <td>939.0</td>\n",
       "    </tr>\n",
       "    <tr>\n",
       "      <th>1990;JUL;REGIÃO CENTRO-OESTE;GOIÁS;ETANOL HIDRATADO;24462</th>\n",
       "      <td>251.0</td>\n",
       "    </tr>\n",
       "    <tr>\n",
       "      <th>1990;JUN;REGIÃO CENTRO-OESTE;GOIÁS;ETANOL HIDRATADO;25005</th>\n",
       "      <td>954.0</td>\n",
       "    </tr>\n",
       "    <tr>\n",
       "      <th>1990;MAI;REGIÃO CENTRO-OESTE;GOIÁS;ETANOL HIDRATADO;18888</th>\n",
       "      <td>239.0</td>\n",
       "    </tr>\n",
       "    <tr>\n",
       "      <th>1990;ABR;REGIÃO CENTRO-OESTE;GOIÁS;ETANOL HIDRATADO;27535</th>\n",
       "      <td>918.0</td>\n",
       "    </tr>\n",
       "  </tbody>\n",
       "</table>\n",
       "</div>"
      ],
      "text/plain": [
       "                                                    ANO;MÊS;GRANDE REGIÃO;UNIDADE DA FEDERAÇÃO;PRODUTO;VENDAS\n",
       "1990;JAN;REGIÃO NORDESTE;MARANHÃO;ETANOL HIDRAT...                                              939.0        \n",
       "1990;JUL;REGIÃO CENTRO-OESTE;GOIÁS;ETANOL HIDRA...                                              251.0        \n",
       "1990;JUN;REGIÃO CENTRO-OESTE;GOIÁS;ETANOL HIDRA...                                              954.0        \n",
       "1990;MAI;REGIÃO CENTRO-OESTE;GOIÁS;ETANOL HIDRA...                                              239.0        \n",
       "1990;ABR;REGIÃO CENTRO-OESTE;GOIÁS;ETANOL HIDRA...                                              918.0        "
      ]
     },
     "execution_count": 18,
     "metadata": {},
     "output_type": "execute_result"
    }
   ],
   "source": [
    "df.head()"
   ]
  },
  {
   "cell_type": "markdown",
   "metadata": {},
   "source": [
    "# # Filtrando todas as colunas da tabela"
   ]
  },
  {
   "cell_type": "code",
   "execution_count": 19,
   "metadata": {},
   "outputs": [
    {
     "data": {
      "text/plain": [
       "array(['ANO;MÊS;GRANDE REGIÃO;UNIDADE DA FEDERAÇÃO;PRODUTO;VENDAS'],\n",
       "      dtype=object)"
      ]
     },
     "execution_count": 19,
     "metadata": {},
     "output_type": "execute_result"
    }
   ],
   "source": [
    "df.columns.values"
   ]
  },
  {
   "cell_type": "markdown",
   "metadata": {},
   "source": [
    "# # Filtrando colunas Especificas"
   ]
  },
  {
   "cell_type": "code",
   "execution_count": 20,
   "metadata": {},
   "outputs": [],
   "source": [
    "dfColunas = ['PRODUTO', 'VENDAS']"
   ]
  },
  {
   "cell_type": "code",
   "execution_count": 21,
   "metadata": {},
   "outputs": [],
   "source": [
    "dfFiltrado = df.filter(items=dfColunas)"
   ]
  },
  {
   "cell_type": "code",
   "execution_count": 22,
   "metadata": {},
   "outputs": [
    {
     "data": {
      "text/html": [
       "<div>\n",
       "<style scoped>\n",
       "    .dataframe tbody tr th:only-of-type {\n",
       "        vertical-align: middle;\n",
       "    }\n",
       "\n",
       "    .dataframe tbody tr th {\n",
       "        vertical-align: top;\n",
       "    }\n",
       "\n",
       "    .dataframe thead th {\n",
       "        text-align: right;\n",
       "    }\n",
       "</style>\n",
       "<table border=\"1\" class=\"dataframe\">\n",
       "  <thead>\n",
       "    <tr style=\"text-align: right;\">\n",
       "      <th></th>\n",
       "    </tr>\n",
       "  </thead>\n",
       "  <tbody>\n",
       "    <tr>\n",
       "      <th>1990;JAN;REGIÃO NORDESTE;MARANHÃO;ETANOL HIDRATADO;7578</th>\n",
       "    </tr>\n",
       "    <tr>\n",
       "      <th>1990;JUL;REGIÃO CENTRO-OESTE;GOIÁS;ETANOL HIDRATADO;24462</th>\n",
       "    </tr>\n",
       "    <tr>\n",
       "      <th>1990;JUN;REGIÃO CENTRO-OESTE;GOIÁS;ETANOL HIDRATADO;25005</th>\n",
       "    </tr>\n",
       "    <tr>\n",
       "      <th>1990;MAI;REGIÃO CENTRO-OESTE;GOIÁS;ETANOL HIDRATADO;18888</th>\n",
       "    </tr>\n",
       "    <tr>\n",
       "      <th>1990;ABR;REGIÃO CENTRO-OESTE;GOIÁS;ETANOL HIDRATADO;27535</th>\n",
       "    </tr>\n",
       "    <tr>\n",
       "      <th>...</th>\n",
       "    </tr>\n",
       "    <tr>\n",
       "      <th>2024;JUN;REGIÃO NORTE;RONDÔNIA;ÓLEO DIESEL;83468</th>\n",
       "    </tr>\n",
       "    <tr>\n",
       "      <th>2024;MAI;REGIÃO NORTE;RONDÔNIA;ÓLEO DIESEL;80203</th>\n",
       "    </tr>\n",
       "    <tr>\n",
       "      <th>2024;ABR;REGIÃO NORTE;RONDÔNIA;ÓLEO DIESEL;75102</th>\n",
       "    </tr>\n",
       "    <tr>\n",
       "      <th>2024;FEV;REGIÃO NORTE;RONDÔNIA;ÓLEO DIESEL;70307</th>\n",
       "    </tr>\n",
       "    <tr>\n",
       "      <th>2024;OUT;REGIÃO NORDESTE;PIAUÍ;ÓLEO DIESEL;62341</th>\n",
       "    </tr>\n",
       "  </tbody>\n",
       "</table>\n",
       "<p>90504 rows × 0 columns</p>\n",
       "</div>"
      ],
      "text/plain": [
       "Empty DataFrame\n",
       "Columns: []\n",
       "Index: [1990;JAN;REGIÃO NORDESTE;MARANHÃO;ETANOL HIDRATADO;7578, 1990;JUL;REGIÃO CENTRO-OESTE;GOIÁS;ETANOL HIDRATADO;24462, 1990;JUN;REGIÃO CENTRO-OESTE;GOIÁS;ETANOL HIDRATADO;25005, 1990;MAI;REGIÃO CENTRO-OESTE;GOIÁS;ETANOL HIDRATADO;18888, 1990;ABR;REGIÃO CENTRO-OESTE;GOIÁS;ETANOL HIDRATADO;27535, 1990;MAR;REGIÃO CENTRO-OESTE;GOIÁS;ETANOL HIDRATADO;20827, 1990;SET;REGIÃO CENTRO-OESTE;DISTRITO FEDERAL;ETANOL HIDRATADO;20544, 1990;OUT;REGIÃO CENTRO-OESTE;DISTRITO FEDERAL;ETANOL HIDRATADO;15368, 1990;AGO;REGIÃO CENTRO-OESTE;GOIÁS;ETANOL HIDRATADO;23198, 1990;NOV;REGIÃO CENTRO-OESTE;DISTRITO FEDERAL;ETANOL HIDRATADO;34415, 1990;DEZ;REGIÃO CENTRO-OESTE;MATO GROSSO;ETANOL HIDRATADO;14948, 1990;JUL;REGIÃO SUL;SANTA CATARINA;ETANOL HIDRATADO;34791, 1990;MAI;REGIÃO SUL;RIO GRANDE DO SUL;ETANOL HIDRATADO;41067, 1990;JAN;REGIÃO CENTRO-OESTE;MATO GROSSO DO SUL;ETANOL HIDRATADO;15539, 1990;DEZ;REGIÃO SUL;RIO GRANDE DO SUL;ETANOL HIDRATADO;57317, 1990;NOV;REGIÃO SUL;RIO GRANDE DO SUL;ETANOL HIDRATADO;53499, 1990;OUT;REGIÃO SUL;RIO GRANDE DO SUL;ETANOL HIDRATADO;47092, 1990;FEV;REGIÃO CENTRO-OESTE;GOIÁS;ETANOL HIDRATADO;21750, 1990;SET;REGIÃO CENTRO-OESTE;GOIÁS;ETANOL HIDRATADO;25790, 1990;OUT;REGIÃO CENTRO-OESTE;GOIÁS;ETANOL HIDRATADO;22112, 1990;JAN;REGIÃO CENTRO-OESTE;GOIÁS;ETANOL HIDRATADO;29876, 1990;MAI;REGIÃO SUDESTE;MINAS GERAIS;ETANOL HIDRATADO;68541, 1990;ABR;REGIÃO SUDESTE;MINAS GERAIS;ETANOL HIDRATADO;94384, 1990;AGO;REGIÃO NORTE;RORAIMA;ETANOL HIDRATADO;303, 1990;ABR;REGIÃO SUL;SANTA CATARINA;ETANOL HIDRATADO;36121, 1990;JUN;REGIÃO SUL;SANTA CATARINA;ETANOL HIDRATADO;34780, 1990;ABR;REGIÃO NORDESTE;SERGIPE;ETANOL HIDRATADO;7883, 1990;MAI;REGIÃO SUL;SANTA CATARINA;ETANOL HIDRATADO;22743, 1990;DEZ;REGIÃO CENTRO-OESTE;GOIÁS;ETANOL HIDRATADO;30252, 1990;AGO;REGIÃO CENTRO-OESTE;DISTRITO FEDERAL;ETANOL HIDRATADO;21251, 1990;JUL;REGIÃO CENTRO-OESTE;DISTRITO FEDERAL;ETANOL HIDRATADO;22946, 1990;JUN;REGIÃO CENTRO-OESTE;DISTRITO FEDERAL;ETANOL HIDRATADO;22239, 1990;MAI;REGIÃO CENTRO-OESTE;DISTRITO FEDERAL;ETANOL HIDRATADO;22557, 1990;ABR;REGIÃO CENTRO-OESTE;DISTRITO FEDERAL;ETANOL HIDRATADO;33320, 1990;MAR;REGIÃO CENTRO-OESTE;DISTRITO FEDERAL;ETANOL HIDRATADO;24120, 1990;FEV;REGIÃO CENTRO-OESTE;DISTRITO FEDERAL;ETANOL HIDRATADO;17858, 1990;JAN;REGIÃO CENTRO-OESTE;DISTRITO FEDERAL;ETANOL HIDRATADO;23810, 1990;NOV;REGIÃO CENTRO-OESTE;GOIÁS;ETANOL HIDRATADO;36332, 1990;SET;REGIÃO SUL;RIO GRANDE DO SUL;ETANOL HIDRATADO;55670, 1990;JUL;REGIÃO NORTE;AMAPÁ;ETANOL HIDRATADO;793, 1990;AGO;REGIÃO SUL;RIO GRANDE DO SUL;ETANOL HIDRATADO;50250, 1990;JUN;REGIÃO SUL;RIO GRANDE DO SUL;ETANOL HIDRATADO;54392, 1990;ABR;REGIÃO CENTRO-OESTE;MATO GROSSO;ETANOL HIDRATADO;12776, 1990;MAR;REGIÃO CENTRO-OESTE;MATO GROSSO;ETANOL HIDRATADO;9828, 1990;FEV;REGIÃO CENTRO-OESTE;MATO GROSSO;ETANOL HIDRATADO;10329, 1990;JAN;REGIÃO CENTRO-OESTE;MATO GROSSO;ETANOL HIDRATADO;16479, 1990;DEZ;REGIÃO CENTRO-OESTE;MATO GROSSO DO SUL;ETANOL HIDRATADO;17829, 1990;NOV;REGIÃO CENTRO-OESTE;MATO GROSSO DO SUL;ETANOL HIDRATADO;20465, 1990;SET;REGIÃO CENTRO-OESTE;MATO GROSSO DO SUL;ETANOL HIDRATADO;14728, 1990;MAI;REGIÃO CENTRO-OESTE;MATO GROSSO;ETANOL HIDRATADO;12033, 1990;OUT;REGIÃO CENTRO-OESTE;MATO GROSSO DO SUL;ETANOL HIDRATADO;12654, 1990;JUN;REGIÃO NORTE;RORAIMA;ETANOL HIDRATADO;586, 1990;JUN;REGIÃO NORDESTE;SERGIPE;ETANOL HIDRATADO;5972, 1990;NOV;REGIÃO NORTE;RONDÔNIA;ETANOL HIDRATADO;7139, 1990;JUL;REGIÃO NORTE;ACRE;ETANOL HIDRATADO;986, 1990;JUN;REGIÃO NORTE;ACRE;ETANOL HIDRATADO;966, 1990;MAI;REGIÃO NORTE;ACRE;ETANOL HIDRATADO;727, 1990;ABR;REGIÃO NORTE;ACRE;ETANOL HIDRATADO;1849, 1990;OUT;REGIÃO SUDESTE;ESPÍRITO SANTO;ETANOL HIDRATADO;14465, 1990;JUN;REGIÃO CENTRO-OESTE;MATO GROSSO;ETANOL HIDRATADO;13853, 1990;JUL;REGIÃO CENTRO-OESTE;MATO GROSSO;ETANOL HIDRATADO;15223, 1990;AGO;REGIÃO CENTRO-OESTE;MATO GROSSO;ETANOL HIDRATADO;12123, 1990;JAN;REGIÃO NORTE;RONDÔNIA;ETANOL HIDRATADO;3892, 1990;ABR;REGIÃO SUL;RIO GRANDE DO SUL;ETANOL HIDRATADO;60708, 1990;NOV;REGIÃO CENTRO-OESTE;MATO GROSSO;ETANOL HIDRATADO;18851, 1990;MAR;REGIÃO SUL;RIO GRANDE DO SUL;ETANOL HIDRATADO;52128, 1990;FEV;REGIÃO SUL;RIO GRANDE DO SUL;ETANOL HIDRATADO;31437, 1990;JAN;REGIÃO SUL;RIO GRANDE DO SUL;ETANOL HIDRATADO;63232, 1990;DEZ;REGIÃO SUL;SANTA CATARINA;ETANOL HIDRATADO;41870, 1990;NOV;REGIÃO SUL;SANTA CATARINA;ETANOL HIDRATADO;44785, 1990;OUT;REGIÃO SUL;SANTA CATARINA;ETANOL HIDRATADO;33113, 1990;SET;REGIÃO SUL;SANTA CATARINA;ETANOL HIDRATADO;35644, 1990;AGO;REGIÃO SUL;SANTA CATARINA;ETANOL HIDRATADO;31478, 1990;FEV;REGIÃO CENTRO-OESTE;MATO GROSSO DO SUL;ETANOL HIDRATADO;10903, 1990;MAR;REGIÃO CENTRO-OESTE;MATO GROSSO DO SUL;ETANOL HIDRATADO;10794, 1990;ABR;REGIÃO CENTRO-OESTE;MATO GROSSO DO SUL;ETANOL HIDRATADO;14540, 1990;MAI;REGIÃO CENTRO-OESTE;MATO GROSSO DO SUL;ETANOL HIDRATADO;11195, 1990;OUT;REGIÃO CENTRO-OESTE;MATO GROSSO;ETANOL HIDRATADO;12177, 1990;SET;REGIÃO CENTRO-OESTE;MATO GROSSO;ETANOL HIDRATADO;13181, 1990;JUL;REGIÃO SUL;RIO GRANDE DO SUL;ETANOL HIDRATADO;55801, 1990;MAR;REGIÃO NORTE;ACRE;ETANOL HIDRATADO;919, 1990;AGO;REGIÃO NORTE;AMAPÁ;ETANOL HIDRATADO;635, 1990;OUT;REGIÃO NORTE;AMAPÁ;ETANOL HIDRATADO;693, 1990;AGO;REGIÃO CENTRO-OESTE;MATO GROSSO DO SUL;ETANOL HIDRATADO;12765, 1990;JAN;REGIÃO SUDESTE;MINAS GERAIS;ETANOL HIDRATADO;86811, 1990;FEV;REGIÃO SUDESTE;MINAS GERAIS;ETANOL HIDRATADO;62897, 1990;MAR;REGIÃO SUDESTE;MINAS GERAIS;ETANOL HIDRATADO;66619, 1990;AGO;REGIÃO SUDESTE;ESPÍRITO SANTO;ETANOL HIDRATADO;12685, 1990;JUL;REGIÃO SUDESTE;ESPÍRITO SANTO;ETANOL HIDRATADO;14995, 1990;JUN;REGIÃO SUDESTE;ESPÍRITO SANTO;ETANOL HIDRATADO;13218, 1990;MAR;REGIÃO NORDESTE;BAHIA;ETANOL HIDRATADO;35098, 1990;MAI;REGIÃO SUDESTE;ESPÍRITO SANTO;ETANOL HIDRATADO;10716, 1990;MAR;REGIÃO SUDESTE;ESPÍRITO SANTO;ETANOL HIDRATADO;12019, 1990;FEV;REGIÃO SUDESTE;ESPÍRITO SANTO;ETANOL HIDRATADO;15094, 1990;JAN;REGIÃO SUDESTE;ESPÍRITO SANTO;ETANOL HIDRATADO;15574, 1990;DEZ;REGIÃO SUDESTE;MINAS GERAIS;ETANOL HIDRATADO;93002, 1990;NOV;REGIÃO SUDESTE;MINAS GERAIS;ETANOL HIDRATADO;114548, 1990;OUT;REGIÃO SUDESTE;MINAS GERAIS;ETANOL HIDRATADO;70852, 1990;SET;REGIÃO SUDESTE;MINAS GERAIS;ETANOL HIDRATADO;83109, 1990;ABR;REGIÃO SUDESTE;ESPÍRITO SANTO;ETANOL HIDRATADO;16932, ...]\n",
       "\n",
       "[90504 rows x 0 columns]"
      ]
     },
     "execution_count": 22,
     "metadata": {},
     "output_type": "execute_result"
    }
   ],
   "source": [
    "dfFiltrado"
   ]
  }
 ],
 "metadata": {
  "kernelspec": {
   "display_name": "base",
   "language": "python",
   "name": "python3"
  },
  "language_info": {
   "codemirror_mode": {
    "name": "ipython",
    "version": 3
   },
   "file_extension": ".py",
   "mimetype": "text/x-python",
   "name": "python",
   "nbconvert_exporter": "python",
   "pygments_lexer": "ipython3",
   "version": "3.12.7"
  }
 },
 "nbformat": 4,
 "nbformat_minor": 2
}
